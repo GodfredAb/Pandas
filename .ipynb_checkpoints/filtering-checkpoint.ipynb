{
 "cells": [
  {
   "cell_type": "code",
   "execution_count": 2,
   "id": "0f2e7ba2-f67a-4610-8aff-0cfe95f73341",
   "metadata": {},
   "outputs": [],
   "source": [
    "people = {\n",
    "    'first': [ 'Corey', 'Jane', 'John' ],\n",
    "    'last': [ 'Schafer', 'Doe', 'Doe' ],\n",
    "    'email': [ 'CoreySchafer@gmail.com', 'JaneDoe@gmail.com', 'JohnDoe@gmail.com']\n",
    "}"
   ]
  },
  {
   "cell_type": "code",
   "execution_count": 3,
   "id": "3616f1b3-7ab4-4264-88e8-4c006e152a43",
   "metadata": {},
   "outputs": [],
   "source": [
    "import pandas as pd"
   ]
  },
  {
   "cell_type": "code",
   "execution_count": 4,
   "id": "bba50e36-170e-4ffb-a81f-88e0d791e4bd",
   "metadata": {},
   "outputs": [],
   "source": [
    "df = pd.DataFrame(people)"
   ]
  },
  {
   "cell_type": "code",
   "execution_count": 5,
   "id": "48f92ef8-7636-465c-9d9a-5a5d4342bd47",
   "metadata": {},
   "outputs": [
    {
     "data": {
      "text/html": [
       "<div>\n",
       "<style scoped>\n",
       "    .dataframe tbody tr th:only-of-type {\n",
       "        vertical-align: middle;\n",
       "    }\n",
       "\n",
       "    .dataframe tbody tr th {\n",
       "        vertical-align: top;\n",
       "    }\n",
       "\n",
       "    .dataframe thead th {\n",
       "        text-align: right;\n",
       "    }\n",
       "</style>\n",
       "<table border=\"1\" class=\"dataframe\">\n",
       "  <thead>\n",
       "    <tr style=\"text-align: right;\">\n",
       "      <th></th>\n",
       "      <th>first</th>\n",
       "      <th>last</th>\n",
       "      <th>email</th>\n",
       "    </tr>\n",
       "  </thead>\n",
       "  <tbody>\n",
       "    <tr>\n",
       "      <th>1</th>\n",
       "      <td>Jane</td>\n",
       "      <td>Doe</td>\n",
       "      <td>JaneDoe@gmail.com</td>\n",
       "    </tr>\n",
       "    <tr>\n",
       "      <th>2</th>\n",
       "      <td>John</td>\n",
       "      <td>Doe</td>\n",
       "      <td>JohnDoe@gmail.com</td>\n",
       "    </tr>\n",
       "  </tbody>\n",
       "</table>\n",
       "</div>"
      ],
      "text/plain": [
       "  first last              email\n",
       "1  Jane  Doe  JaneDoe@gmail.com\n",
       "2  John  Doe  JohnDoe@gmail.com"
      ]
     },
     "execution_count": 5,
     "metadata": {},
     "output_type": "execute_result"
    }
   ],
   "source": [
    "# retrieving rows with last name Doe\n",
    "filt = df['last'] == 'Doe'\n",
    "df.loc[filt]"
   ]
  },
  {
   "cell_type": "code",
   "execution_count": 6,
   "id": "15b817e7-9e3b-4f22-8152-e6f32c8e1b30",
   "metadata": {},
   "outputs": [
    {
     "data": {
      "text/plain": [
       "1    JaneDoe@gmail.com\n",
       "2    JohnDoe@gmail.com\n",
       "Name: email, dtype: object"
      ]
     },
     "execution_count": 6,
     "metadata": {},
     "output_type": "execute_result"
    }
   ],
   "source": [
    "# filterign the emails of rows with last name Doe\n",
    "df.loc[filt, 'email']"
   ]
  },
  {
   "cell_type": "code",
   "execution_count": 9,
   "id": "e7d7424c-5aed-4bb0-b1ae-e43ca935d94f",
   "metadata": {},
   "outputs": [],
   "source": [
    "# filtering the emails of rows with last name Doe and first name John\n",
    "filt_1 = (df['last'] == 'Doe') & (df['first'] == 'John')"
   ]
  },
  {
   "cell_type": "code",
   "execution_count": 13,
   "id": "9955c70c-f688-4995-b7dc-ed1cdeb0b646",
   "metadata": {},
   "outputs": [
    {
     "data": {
      "text/plain": [
       "2    JohnDoe@gmail.com\n",
       "Name: email, dtype: object"
      ]
     },
     "execution_count": 13,
     "metadata": {},
     "output_type": "execute_result"
    }
   ],
   "source": [
    "df.loc[filt_1, 'email']"
   ]
  },
  {
   "cell_type": "code",
   "execution_count": 11,
   "id": "839ac04b-ddda-45e1-8748-e0cd51553c13",
   "metadata": {},
   "outputs": [],
   "source": [
    "# filtering the emails of rows with last name Schafer or first name John\n",
    "filt_2 = (df['last'] == 'Schafer') | (df['first'] == 'John')"
   ]
  },
  {
   "cell_type": "code",
   "execution_count": 14,
   "id": "08440a28-8751-46f7-9c1a-3d6629a16a92",
   "metadata": {},
   "outputs": [
    {
     "data": {
      "text/plain": [
       "0    CoreySchafer@gmail.com\n",
       "2         JohnDoe@gmail.com\n",
       "Name: email, dtype: object"
      ]
     },
     "execution_count": 14,
     "metadata": {},
     "output_type": "execute_result"
    }
   ],
   "source": [
    "df.loc[filt_2, 'email']"
   ]
  },
  {
   "cell_type": "code",
   "execution_count": 16,
   "id": "ef43f701-3bc8-456d-98a9-3f7279e95d93",
   "metadata": {},
   "outputs": [
    {
     "data": {
      "text/plain": [
       "1    JaneDoe@gmail.com\n",
       "Name: email, dtype: object"
      ]
     },
     "execution_count": 16,
     "metadata": {},
     "output_type": "execute_result"
    }
   ],
   "source": [
    "# filtering the emails of rows without last name Schafer or first name John\n",
    "filt_3 = (df['last'] == 'Schafer') | (df['first'] == 'John')\n",
    "df.loc[~filt_3, 'email']"
   ]
  },
  {
   "cell_type": "code",
   "execution_count": 18,
   "id": "4cb03b1b-113a-486f-be0e-0dc44c1be8ec",
   "metadata": {},
   "outputs": [
    {
     "data": {
      "text/plain": [
       "1    JaneDoe@gmail.com\n",
       "Name: email, dtype: object"
      ]
     },
     "execution_count": 18,
     "metadata": {},
     "output_type": "execute_result"
    }
   ],
   "source": [
    "# alt to filt_3\n",
    "filt_4 = ~(df['last'] == 'Schafer') & ~(df['first'] == 'John')\n",
    "df.loc[filt_4, 'email']"
   ]
  },
  {
   "cell_type": "code",
   "execution_count": null,
   "id": "ea30209a-b7de-44c6-aba1-46449ef6f23b",
   "metadata": {},
   "outputs": [],
   "source": []
  }
 ],
 "metadata": {
  "kernelspec": {
   "display_name": "Python 3 (ipykernel)",
   "language": "python",
   "name": "python3"
  },
  "language_info": {
   "codemirror_mode": {
    "name": "ipython",
    "version": 3
   },
   "file_extension": ".py",
   "mimetype": "text/x-python",
   "name": "python",
   "nbconvert_exporter": "python",
   "pygments_lexer": "ipython3",
   "version": "3.10.12"
  }
 },
 "nbformat": 4,
 "nbformat_minor": 5
}
